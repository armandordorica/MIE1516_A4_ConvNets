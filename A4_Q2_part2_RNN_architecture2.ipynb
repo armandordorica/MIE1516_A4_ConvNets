{
 "cells": [
  {
   "cell_type": "code",
   "execution_count": 1,
   "metadata": {},
   "outputs": [
    {
     "name": "stderr",
     "output_type": "stream",
     "text": [
      "Using TensorFlow backend.\n"
     ]
    }
   ],
   "source": [
    "\n",
    "from tensorflow.keras.preprocessing.text import Tokenizer\n",
    "from tensorflow.keras.preprocessing.sequence import pad_sequences\n",
    "from tensorflow.keras.models import Sequential\n",
    "from tensorflow.keras.layers import Dense, Embedding, LSTM, SpatialDropout1D, Dropout,GRU\n",
    "from sklearn.model_selection import train_test_split\n",
    "import re#regular expression\n",
    "import numpy as np \n",
    "import pandas as pd\n",
    "from nltk.corpus import stopwords\n",
    "from nltk import word_tokenize\n",
    "from tensorflow.keras import backend\n",
    "import pandas as pd\n",
    "import matplotlib.pyplot as plt\n",
    "from tensorflow.keras.models import load_model\n",
    "from sklearn.utils import shuffle\n",
    "import keras\n"
   ]
  },
  {
   "cell_type": "markdown",
   "metadata": {},
   "source": [
    "### Getting info about my local GPU"
   ]
  },
  {
   "cell_type": "code",
   "execution_count": 2,
   "metadata": {},
   "outputs": [
    {
     "name": "stdout",
     "output_type": "stream",
     "text": [
      "['/device:CPU:0', '/device:XLA_CPU:0']\n"
     ]
    },
    {
     "name": "stderr",
     "output_type": "stream",
     "text": [
      "/Users/armandoordoricadelatorre/.pyenv/versions/3.7.3/lib/python3.7/site-packages/IPython/core/interactiveshell.py:3058: DtypeWarning: Columns (5,11) have mixed types. Specify dtype option on import or set low_memory=False.\n",
      "  interactivity=interactivity, compiler=compiler, result=result)\n"
     ]
    },
    {
     "name": "stdout",
     "output_type": "stream",
     "text": [
      "\n",
      "DATAFRAME INFORMATION:\n",
      "\n",
      "<class 'pandas.core.frame.DataFrame'>\n",
      "RangeIndex: 555957 entries, 0 to 555956\n",
      "Data columns (total 18 columns):\n",
      "date_received                   555957 non-null object\n",
      "product                         555957 non-null object\n",
      "sub_product                     397635 non-null object\n",
      "issue                           555957 non-null object\n",
      "sub_issue                       212622 non-null object\n",
      "consumer_complaint_narrative    66806 non-null object\n",
      "company_public_response         85124 non-null object\n",
      "company                         555957 non-null object\n",
      "state                           551070 non-null object\n",
      "zipcode                         551452 non-null object\n",
      "tags                            77959 non-null object\n",
      "consumer_consent_provided       123458 non-null object\n",
      "submitted_via                   555957 non-null object\n",
      "date_sent_to_company            555957 non-null object\n",
      "company_response_to_consumer    555957 non-null object\n",
      "timely_response                 555957 non-null object\n",
      "consumer_disputed?              555957 non-null object\n",
      "complaint_id                    555957 non-null int64\n",
      "dtypes: int64(1), object(17)\n",
      "memory usage: 76.3+ MB\n",
      "None\n"
     ]
    }
   ],
   "source": [
    "import tensorflow as tf\n",
    "config = tf.compat.v1.ConfigProto() \n",
    "config.gpu_options.allow_growth=True\n",
    "sess = tf.compat.v1.Session(config=config)\n",
    "keras.backend.set_session(sess)\n",
    "\n",
    "def _get_available_devices():\n",
    "    from tensorflow.python.client import device_lib\n",
    "    local_device_protos = device_lib.list_local_devices()\n",
    "    return [x.name for x in local_device_protos]\n",
    "print( _get_available_devices())\n",
    "\n",
    "\n",
    "df = pd.read_csv(\"consumer_complaints.csv\")\n",
    "print(\"\\nDATAFRAME INFORMATION:\\n\")\n",
    "print(df.info())\n"
   ]
  },
  {
   "cell_type": "markdown",
   "metadata": {},
   "source": [
    "### Notes\n",
    "*  Two columns in dataset are used (product, consumer_complaint_narrative)\n",
    "*  The purpose of the project is to categorize consumer complaints by product\n",
    "*  Columns containing null values are not included in the dataframe.\n",
    "* Prepaid card and credit card complaints are merged to remove noise"
   ]
  },
  {
   "cell_type": "code",
   "execution_count": 3,
   "metadata": {},
   "outputs": [
    {
     "name": "stderr",
     "output_type": "stream",
     "text": [
      "/Users/armandoordoricadelatorre/.pyenv/versions/3.7.3/lib/python3.7/site-packages/IPython/core/interactiveshell.py:3058: DtypeWarning: Columns (5) have mixed types. Specify dtype option on import or set low_memory=False.\n",
      "  interactivity=interactivity, compiler=compiler, result=result)\n"
     ]
    },
    {
     "name": "stdout",
     "output_type": "stream",
     "text": [
      "\n",
      "PRODUCT VALUE COUNT:\n",
      "\n",
      "Debt collection            17552\n",
      "Mortgage                   14919\n",
      "Credit reporting           12526\n",
      "Credit card                 8790\n",
      "Bank account or service     5711\n",
      "Consumer Loan               3678\n",
      "Student loan                2128\n",
      "Payday loan                  726\n",
      "Money transfers              666\n",
      "Other financial service      110\n",
      "Name: product, dtype: int64\n",
      "\n",
      "DATAFRAME HEAD:\n",
      "\n",
      "                product                       consumer_complaint_narrative\n",
      "190126  Debt collection  XXXX has claimed I owe them {$27.00} for XXXX ...\n",
      "190135    Consumer Loan  Due to inconsistencies in the amount owed that...\n",
      "190155         Mortgage  In XX/XX/XXXX my wages that I earned at my job...\n",
      "190207         Mortgage  I have an open and current mortgage with Chase...\n",
      "190208         Mortgage  XXXX was submitted XX/XX/XXXX. At the time I s...\n"
     ]
    }
   ],
   "source": [
    "\n",
    "fields= ['product','consumer_complaint_narrative'] \n",
    "df=pd.read_csv('consumer_complaints.csv', usecols=fields)\n",
    "\n",
    "df = df[pd.notnull(df['consumer_complaint_narrative'])]\n",
    "\n",
    "\n",
    "for i in range(df.shape[0]):\n",
    "    if (df.iloc[i]==\"Prepaid card\").any():\n",
    "        df.iloc[i]=\"Credit card\"\n",
    "    if (df.iloc[i]==\"Virtual currency\").any():\n",
    "        df.iloc[i]=\"Other financial service\"  \n",
    "\n",
    "print(\"\\nPRODUCT VALUE COUNT:\\n\")\n",
    "print(df[\"product\"].value_counts())\n",
    "print(\"\\nDATAFRAME HEAD:\\n\")\n",
    "print(df.head())\n",
    "# -----------------------------------------------------------------------------------\n",
    "\n",
    "# ---------------------------------------------------------------------------------\n",
    "# PREPROCESSING-1\n"
   ]
  },
  {
   "cell_type": "code",
   "execution_count": 4,
   "metadata": {},
   "outputs": [],
   "source": [
    "# ---------------------------------------------------------------------------------\n",
    "STOPWORDS=stopwords.words('english')\n",
    "stopwords_extra=['bank', 'america', 'x/xx/xxxx', '00']\n",
    "STOPWORDS.extend(stopwords_extra)\n",
    "\n",
    "remove_caracteres = re.compile('[^0-9a-z #+_]')\n",
    "replace_espaco = re.compile('[/(){}\\[\\]\\|@,;]')\n",
    "df = df.reset_index(drop=True)\n",
    "\n"
   ]
  },
  {
   "cell_type": "markdown",
   "metadata": {},
   "source": [
    "### Class names are in the range of 0-9 since GRU NN takes numerical values as input."
   ]
  },
  {
   "cell_type": "code",
   "execution_count": 11,
   "metadata": {},
   "outputs": [
    {
     "name": "stdout",
     "output_type": "stream",
     "text": [
      "shape Y (66806, 10)\n"
     ]
    }
   ],
   "source": [
    "\n",
    "Y = pd.get_dummies(df[\"product\"]).values\n",
    "print(\"shape Y\", Y.shape)\n",
    "\n",
    "\n",
    "\n",
    "class_name = [\"\" for x in range(10)]\n",
    "for i in range(100):\n",
    "    for j in range(10):\n",
    "        if(Y[i,j]==1):\n",
    "            class_name[j]=df.iloc[i]['product']\n",
    "np.save('class_name',class_name)            \n",
    "\n",
    "## Shuffling the data to prevent the model from memorizing \n",
    "\n",
    "X, Y = shuffle(df['consumer_complaint_narrative'] , Y)\n",
    "\n",
    "# 0.1 to avoid using the same data in train and test stages\n",
    "\n",
    "X_train, X_test, Y_train, Y_test = train_test_split(X, Y, test_size=0.1, random_state = 42)\n",
    "\n",
    "\n",
    "X_test.to_csv('X_test_before_tokenizer.csv', header=True)\n",
    "# Data cleaning removing words, punctuation, characters that would not affect the classification.\n",
    "def pre_processamento(text):\n",
    "    text = text.lower()\n",
    "    text = remove_caracteres.sub('', text)\n",
    "    text = replace_espaco.sub(' ', text)\n",
    "    text = text.replace('x', '')\n",
    "    text = ' '.join(word for word in text.split() if word not in STOPWORDS)\n",
    "    return text\n",
    "\n"
   ]
  },
  {
   "cell_type": "code",
   "execution_count": 6,
   "metadata": {},
   "outputs": [],
   "source": [
    "X_train = X_train.apply(pre_processamento)\n",
    "X_test = X_test.apply(pre_processamento)\n",
    "\n",
    "\n",
    "n_max_palavras = 5000\n",
    "tamanho_maximo_sent = 250\n"
   ]
  },
  {
   "cell_type": "code",
   "execution_count": 7,
   "metadata": {},
   "outputs": [
    {
     "name": "stdout",
     "output_type": "stream",
     "text": [
      " 58113 tokens unicos.\n"
     ]
    }
   ],
   "source": [
    "\n",
    "tokenizer = Tokenizer(num_words=n_max_palavras, filters='!\"#$%&()*+,-./:;<=>?@[\\]^_`{|}~', lower=True)\n",
    "tokenizer.fit_on_texts(df['consumer_complaint_narrative'].values)\n",
    "word_index = tokenizer.word_index\n",
    "print(' %s tokens unicos.' % len(word_index))"
   ]
  },
  {
   "cell_type": "code",
   "execution_count": 8,
   "metadata": {},
   "outputs": [
    {
     "name": "stdout",
     "output_type": "stream",
     "text": [
      "shape X_train (60125, 250)\n",
      "shape X_test (6681, 250)\n"
     ]
    }
   ],
   "source": [
    "\n",
    "\n",
    "X_train = tokenizer.texts_to_sequences(X_train.values)\n",
    "X_train = pad_sequences(X_train, maxlen=tamanho_maximo_sent)\n",
    "print(\"shape X_train\", X_train.shape)\n",
    "\n",
    "X_test = tokenizer.texts_to_sequences(X_test.values)\n",
    "X_test = pad_sequences(X_test, maxlen=tamanho_maximo_sent)\n",
    "print(\"shape X_test\", X_test.shape)\n",
    "\n",
    "\n",
    "np.save('X_test', X_test)\n",
    "np.save('Y_test', Y_test)\n",
    "\n",
    "# --------------------------------------------------------------------------------------\n",
    "# TRAINING\n",
    "# --------------------------------------------------------------------------------------\n",
    "# There are two GRU (Gated Recurrent Units) NNs in our model with 100 nodes.# Epoch: 5\n",
    "# Batch size: 128\n",
    "# Dropout: 0.2\n",
    "# Activation func: softmax\n",
    "# Optimizer: Adam\n",
    "# --------------------------------------------------------------------------------------"
   ]
  },
  {
   "cell_type": "code",
   "execution_count": 9,
   "metadata": {},
   "outputs": [
    {
     "name": "stdout",
     "output_type": "stream",
     "text": [
      "WARNING:tensorflow:From /Users/armandoordoricadelatorre/.pyenv/versions/3.7.3/lib/python3.7/site-packages/tensorflow_core/python/keras/initializers.py:119: calling RandomUniform.__init__ (from tensorflow.python.ops.init_ops) with dtype is deprecated and will be removed in a future version.\n",
      "Instructions for updating:\n",
      "Call initializer instance with the dtype argument instead of passing it to the constructor\n",
      "WARNING:tensorflow:From /Users/armandoordoricadelatorre/.pyenv/versions/3.7.3/lib/python3.7/site-packages/tensorflow_core/python/ops/resource_variable_ops.py:1630: calling BaseResourceVariable.__init__ (from tensorflow.python.ops.resource_variable_ops) with constraint is deprecated and will be removed in a future version.\n",
      "Instructions for updating:\n",
      "If using Keras pass *_constraint arguments to layers.\n"
     ]
    }
   ],
   "source": [
    "embedding_dimensions = 100\n",
    "epochs = 5\n",
    "batch_size = 512\n",
    "\n",
    "model = Sequential()\n",
    "model.add(Embedding(n_max_palavras, embedding_dimensions, input_length=X_train.shape[1]))\n",
    "model.add(SpatialDropout1D(0.2))\n",
    "model.add(GRU(units=100, return_sequences=True))\n",
    "model.add(Dropout(0.2))\n",
    "model.add(GRU(100))\n",
    "model.add(Dropout(0.2))\n",
    "model.add(Dense(10, activation=\"softmax\"))\n",
    "model.compile(loss=\"categorical_crossentropy\", optimizer=\"adam\", metrics=[\"accuracy\"])\n"
   ]
  },
  {
   "cell_type": "markdown",
   "metadata": {},
   "source": [
    "### Fitting the model and generating accuracy and loss plots"
   ]
  },
  {
   "cell_type": "code",
   "execution_count": 10,
   "metadata": {},
   "outputs": [
    {
     "name": "stdout",
     "output_type": "stream",
     "text": [
      "Model: \"sequential\"\n",
      "_________________________________________________________________\n",
      "Layer (type)                 Output Shape              Param #   \n",
      "=================================================================\n",
      "embedding (Embedding)        (None, 250, 100)          500000    \n",
      "_________________________________________________________________\n",
      "spatial_dropout1d (SpatialDr (None, 250, 100)          0         \n",
      "_________________________________________________________________\n",
      "gru (GRU)                    (None, 250, 100)          60300     \n",
      "_________________________________________________________________\n",
      "dropout (Dropout)            (None, 250, 100)          0         \n",
      "_________________________________________________________________\n",
      "gru_1 (GRU)                  (None, 100)               60300     \n",
      "_________________________________________________________________\n",
      "dropout_1 (Dropout)          (None, 100)               0         \n",
      "_________________________________________________________________\n",
      "dense (Dense)                (None, 10)                1010      \n",
      "=================================================================\n",
      "Total params: 621,610\n",
      "Trainable params: 621,610\n",
      "Non-trainable params: 0\n",
      "_________________________________________________________________\n",
      "None\n",
      "WARNING:tensorflow:From /Users/armandoordoricadelatorre/.pyenv/versions/3.7.3/lib/python3.7/site-packages/tensorflow_core/python/ops/math_grad.py:1424: where (from tensorflow.python.ops.array_ops) is deprecated and will be removed in a future version.\n",
      "Instructions for updating:\n",
      "Use tf.where in 2.0, which has the same broadcast rule as np.where\n",
      "Train on 54112 samples, validate on 6013 samples\n",
      "Epoch 1/5\n",
      "54112/54112 [==============================] - 321s 6ms/sample - loss: 1.5546 - acc: 0.4334 - val_loss: 0.9990 - val_acc: 0.6739\n",
      "Epoch 2/5\n",
      "54112/54112 [==============================] - 252s 5ms/sample - loss: 0.7795 - acc: 0.7561 - val_loss: 0.6542 - val_acc: 0.7976\n",
      "Epoch 3/5\n",
      "54112/54112 [==============================] - 250s 5ms/sample - loss: 0.5672 - acc: 0.8283 - val_loss: 0.5868 - val_acc: 0.8167\n",
      "Epoch 4/5\n",
      "54112/54112 [==============================] - 248s 5ms/sample - loss: 0.4896 - acc: 0.8544 - val_loss: 0.5490 - val_acc: 0.8324\n",
      "Epoch 5/5\n",
      "54112/54112 [==============================] - 256s 5ms/sample - loss: 0.4390 - acc: 0.8691 - val_loss: 0.5421 - val_acc: 0.8332\n"
     ]
    },
    {
     "data": {
      "image/png": "[encoded data removed]",
      "text/plain": [
       "<Figure size 432x288 with 1 Axes>"
      ]
     },
     "metadata": {
      "needs_background": "light"
     },
     "output_type": "display_data"
    },
    {
     "name": "stdout",
     "output_type": "stream",
     "text": [
      "\n",
      "Accuracy: 83.42%\n"
     ]
    }
   ],
   "source": [
    "print(model.summary())\n",
    "history=model.fit(X_train, Y_train, epochs=epochs, batch_size=batch_size, validation_split=0.1,shuffle=True)\n",
    "\n",
    "# Saving the model that was used in testing stage\n",
    "model.save('my_model.h5')\n",
    "\n",
    "\n",
    "fig1 = plt.figure()\n",
    "plt.plot(history.history['loss'],'r',linewidth=3.0)\n",
    "plt.plot(history.history['val_loss'],'b',linewidth=3.0)\n",
    "plt.legend(['Training loss', 'Validation Loss'],fontsize=18)\n",
    "plt.xlabel('Epochs ',fontsize=16)\n",
    "plt.ylabel('Loss',fontsize=16)\n",
    "plt.title('Loss Curves :RNN - GRU',fontsize=16)\n",
    "plt.show()\n",
    "\n",
    "scores = model.evaluate(X_test, Y_test, verbose=0)\n",
    "print(\"\\nAccuracy: %.2f%%\" % (scores[1]*100))"
   ]
  },
  {
   "cell_type": "code",
   "execution_count": null,
   "metadata": {},
   "outputs": [],
   "source": []
  }
 ],
 "metadata": {
  "kernelspec": {
   "display_name": "py36",
   "language": "python",
   "name": "py36"
  },
  "language_info": {
   "codemirror_mode": {
    "name": "ipython",
    "version": 3
   },
   "file_extension": ".py",
   "mimetype": "text/x-python",
   "name": "python",
   "nbconvert_exporter": "python",
   "pygments_lexer": "ipython3",
   "version": "3.7.3"
  }
 },
 "nbformat": 4,
 "nbformat_minor": 4
}
