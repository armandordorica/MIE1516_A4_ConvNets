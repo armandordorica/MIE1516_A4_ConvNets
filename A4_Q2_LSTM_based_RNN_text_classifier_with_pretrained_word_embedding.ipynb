{
 "cells": [
  {
   "cell_type": "markdown",
   "metadata": {},
   "source": [
    "### LSTM CNN"
   ]
  },
  {
   "cell_type": "code",
   "execution_count": 3,
   "metadata": {},
   "outputs": [
    {
     "name": "stdout",
     "output_type": "stream",
     "text": [
      "1.15.2\n"
     ]
    }
   ],
   "source": [
    "import tensorflow as tf\n",
    "print(tf.__version__)\n",
    "import matplotlib.pyplot as plt\n",
    "\n",
    "from absl import app\n",
    "from absl import flags\n",
    "from absl import logging\n",
    "\n",
    "\n",
    "import tensorflow as tf\n",
    "import numpy as np\n",
    "from sklearn import metrics\n",
    "from sklearn.metrics import confusion_matrix\n",
    "from tensorflow.keras.preprocessing.text import Tokenizer\n",
    "from tensorflow.keras.preprocessing.sequence import pad_sequences\n",
    "from nltk.corpus import stopwords\n",
    "from sklearn.metrics import log_loss, accuracy_score"
   ]
  },
  {
   "cell_type": "code",
   "execution_count": 5,
   "metadata": {},
   "outputs": [
    {
     "name": "stdout",
     "output_type": "stream",
     "text": [
      "Collecting git+https://github.com/tensorflow/privacy\n",
      "  Cloning https://github.com/tensorflow/privacy to /private/var/folders/yt/gg3wbfh95hjbxdzsdwzwbv4c0000gn/T/pip-req-build-ck96k6us\n",
      "  Running command git clone -q https://github.com/tensorflow/privacy /private/var/folders/yt/gg3wbfh95hjbxdzsdwzwbv4c0000gn/T/pip-req-build-ck96k6us\n",
      "Requirement already satisfied: scipy>=0.17 in /Users/armandoordoricadelatorre/.pyenv/versions/3.7.3/lib/python3.7/site-packages (from tensorflow-privacy==0.2.2) (1.4.1)\n",
      "Collecting mpmath\n",
      "\u001b[?25l  Downloading https://files.pythonhosted.org/packages/ca/63/3384ebb3b51af9610086b23ea976e6d27d6d97bf140a76a365bd77a3eb32/mpmath-1.1.0.tar.gz (512kB)\n",
      "\u001b[K     |████████████████████████████████| 522kB 3.1MB/s eta 0:00:01\n",
      "\u001b[?25hCollecting dm-tree~=0.1.1\n",
      "\u001b[?25l  Downloading https://files.pythonhosted.org/packages/b8/31/58b146b0bf722b4fa623a37faf8662d0c2ddf194861b5fec6935d48c3965/dm_tree-0.1.2-cp37-cp37m-macosx_10_9_x86_64.whl (94kB)\n",
      "\u001b[K     |████████████████████████████████| 102kB 13.2MB/s ta 0:00:01\n",
      "\u001b[?25hRequirement already satisfied: numpy>=1.13.3 in /Users/armandoordoricadelatorre/.pyenv/versions/3.7.3/lib/python3.7/site-packages (from scipy>=0.17->tensorflow-privacy==0.2.2) (1.17.4)\n",
      "Requirement already satisfied: six>=1.12.0 in /Users/armandoordoricadelatorre/.pyenv/versions/3.7.3/lib/python3.7/site-packages (from dm-tree~=0.1.1->tensorflow-privacy==0.2.2) (1.13.0)\n",
      "Building wheels for collected packages: tensorflow-privacy, mpmath\n",
      "  Building wheel for tensorflow-privacy (setup.py) ... \u001b[?25ldone\n",
      "\u001b[?25h  Created wheel for tensorflow-privacy: filename=tensorflow_privacy-0.2.2-cp37-none-any.whl size=83185 sha256=51f11f3afeec6276f05b3e1e5491801de711ad5a6fc66f28b5a128a4551e4fcd\n",
      "  Stored in directory: /private/var/folders/yt/gg3wbfh95hjbxdzsdwzwbv4c0000gn/T/pip-ephem-wheel-cache-x07ptpsc/wheels/8a/e4/14/41d16468ac11ec804bd21cfb75fc2e24f96b9e4c5af778f576\n",
      "  Building wheel for mpmath (setup.py) ... \u001b[?25ldone\n",
      "\u001b[?25h  Created wheel for mpmath: filename=mpmath-1.1.0-cp37-none-any.whl size=532240 sha256=68fb1fb834530ff6bbc8a88abfcba023ce5449564f5ba6b0a13e986c62bedb5b\n",
      "  Stored in directory: /Users/armandoordoricadelatorre/Library/Caches/pip/wheels/63/9d/8e/37c3f6506ed3f152733a699e92d8e0c9f5e5f01dea262f80ad\n",
      "Successfully built tensorflow-privacy mpmath\n",
      "Installing collected packages: mpmath, dm-tree, tensorflow-privacy\n",
      "Successfully installed dm-tree-0.1.2 mpmath-1.1.0 tensorflow-privacy-0.2.2\n",
      "\u001b[33mWARNING: You are using pip version 19.3.1; however, version 20.0.2 is available.\n",
      "You should consider upgrading via the 'pip install --upgrade pip' command.\u001b[0m\n"
     ]
    }
   ],
   "source": [
    "!pip install git+https://github.com/tensorflow/privacy"
   ]
  },
  {
   "cell_type": "code",
   "execution_count": 6,
   "metadata": {},
   "outputs": [],
   "source": [
    "\n",
    "STOPWORDS = set(stopwords.words('english'))\n",
    "\n",
    "import pandas as pd\n",
    "from sklearn import preprocessing\n",
    "\n",
    "\n",
    "from tensorflow_privacy.privacy.analysis.rdp_accountant import compute_rdp\n",
    "from tensorflow_privacy.privacy.analysis.rdp_accountant import get_privacy_spent\n",
    "from tensorflow_privacy.privacy.optimizers.dp_optimizer import DPAdamGaussianOptimizer\n"
   ]
  },
  {
   "cell_type": "code",
   "execution_count": 7,
   "metadata": {},
   "outputs": [],
   "source": [
    "GradientDescentOptimizer = tf.compat.v1.train.GradientDescentOptimizer\n",
    "AdamOptimizer = tf.compat.v1.train.AdamOptimizer\n",
    "\n",
    "flags.DEFINE_boolean(\n",
    "    'dpsgd', True, 'If True, train with DP-SGD. If False, '\n",
    "    'train with vanilla SGD.')\n",
    "flags.DEFINE_float('learning_rate', 0.005, 'Learning rate for training')\n",
    "flags.DEFINE_float('noise_multiplier', 1.1,\n",
    "                   'Ratio of the standard deviation to the clipping norm')\n",
    "flags.DEFINE_float('l2_norm_clip', 1.0, 'Clipping norm')\n",
    "flags.DEFINE_integer('batch_size', 250, 'Batch size')\n",
    "flags.DEFINE_integer('epochs', 60, 'Number of epochs')\n",
    "flags.DEFINE_integer(\n",
    "    'microbatches', 250, 'Number of microbatches '\n",
    "    '(must evenly divide batch_size)')\n",
    "flags.DEFINE_string('model_dir', None, 'Model directory')\n",
    "\n",
    "FLAGS = flags.FLAGS\n",
    "\n",
    "embedding_dim = 100\n",
    "max_length = 2000"
   ]
  },
  {
   "cell_type": "code",
   "execution_count": 63,
   "metadata": {},
   "outputs": [],
   "source": [
    "\n",
    "def compute_epsilon(steps):\n",
    "  \"\"\"Computes epsilon value for given hyperparameters.\"\"\"\n",
    "  if FLAGS.noise_multiplier == 0.0:\n",
    "    return float('inf')\n",
    "  orders = [1 + x / 10. for x in range(1, 100)] + list(range(12, 64))\n",
    "  sampling_probability = FLAGS.batch_size / 60000\n",
    "  rdp = compute_rdp(q=sampling_probability,\n",
    "                    noise_multiplier=FLAGS.noise_multiplier,\n",
    "                    steps=steps,\n",
    "                    orders=orders)\n",
    "    \n",
    "  # Delta is set to 1e-5 because product_reviews has 70000 training points.\n",
    "  return get_privacy_spent(orders, rdp, target_delta=1e-5)[0]\n",
    "\n",
    "\n"
   ]
  },
  {
   "cell_type": "markdown",
   "metadata": {},
   "source": [
    "### Importing the data"
   ]
  },
  {
   "cell_type": "code",
   "execution_count": 64,
   "metadata": {},
   "outputs": [
    {
     "name": "stderr",
     "output_type": "stream",
     "text": [
      "/Users/armandoordoricadelatorre/.pyenv/versions/3.7.3/lib/python3.7/site-packages/IPython/core/interactiveshell.py:3058: DtypeWarning: Columns (5,11) have mixed types. Specify dtype option on import or set low_memory=False.\n",
      "  interactivity=interactivity, compiler=compiler, result=result)\n"
     ]
    },
    {
     "name": "stdout",
     "output_type": "stream",
     "text": [
      "                                                                     0  \\\n",
      "date_received                                               08/30/2013   \n",
      "product                                                       Mortgage   \n",
      "sub_product                                             Other mortgage   \n",
      "issue                         Loan modification,collection,foreclosure   \n",
      "sub_issue                                                          NaN   \n",
      "consumer_complaint_narrative                                       NaN   \n",
      "company_public_response                                            NaN   \n",
      "company                                                   U.S. Bancorp   \n",
      "state                                                               CA   \n",
      "zipcode                                                          95993   \n",
      "tags                                                               NaN   \n",
      "consumer_consent_provided                                          NaN   \n",
      "submitted_via                                                 Referral   \n",
      "date_sent_to_company                                        09/03/2013   \n",
      "company_response_to_consumer                   Closed with explanation   \n",
      "timely_response                                                    Yes   \n",
      "consumer_disputed?                                                 Yes   \n",
      "complaint_id                                                    511074   \n",
      "\n",
      "                                                                     1  \n",
      "date_received                                               08/30/2013  \n",
      "product                                                       Mortgage  \n",
      "sub_product                                             Other mortgage  \n",
      "issue                         Loan servicing, payments, escrow account  \n",
      "sub_issue                                                          NaN  \n",
      "consumer_complaint_narrative                                       NaN  \n",
      "company_public_response                                            NaN  \n",
      "company                                          Wells Fargo & Company  \n",
      "state                                                               CA  \n",
      "zipcode                                                          91104  \n",
      "tags                                                               NaN  \n",
      "consumer_consent_provided                                          NaN  \n",
      "submitted_via                                                 Referral  \n",
      "date_sent_to_company                                        09/03/2013  \n",
      "company_response_to_consumer                   Closed with explanation  \n",
      "timely_response                                                    Yes  \n",
      "consumer_disputed?                                                 Yes  \n",
      "complaint_id                                                    511080  \n"
     ]
    },
    {
     "data": {
      "text/plain": [
       "12.0"
      ]
     },
     "execution_count": 64,
     "metadata": {},
     "output_type": "execute_result"
    }
   ],
   "source": [
    "\n",
    "\n",
    "\n",
    "df = pd.read_csv('consumer_complaints.csv')\n",
    "print(df.head(2).T)\n",
    "\n",
    "# Create a new dataframe with two columns\n",
    "df1 = df[['product', 'consumer_complaint_narrative']].copy()\n",
    "\n",
    "df1 = df1[pd.notnull(df1['consumer_complaint_narrative'])]\n",
    "\n",
    "# Renaming second column\n",
    "df1.columns = ['product', 'consumer_complaint']\n",
    "\n",
    "# Percentage of complaints with text\n",
    "total = df1['consumer_complaint'].notnull().sum()\n",
    "round((total / len(df) * 100), 1)\n",
    "\n",
    "# print(pd.DataFrame(df.product.unique()).values)\n"
   ]
  },
  {
   "cell_type": "markdown",
   "metadata": {},
   "source": [
    "### Data Cleaning"
   ]
  },
  {
   "cell_type": "code",
   "execution_count": 65,
   "metadata": {},
   "outputs": [
    {
     "name": "stdout",
     "output_type": "stream",
     "text": [
      "                   0\n",
      "0     DebtCollection\n",
      "1        StudentLoan\n",
      "2           Mortgage\n",
      "3  CreditPrepaidCard\n",
      "4       ConsumerLoan\n",
      "5    CreditReporting\n",
      "6        BankAccount\n",
      "7     MoneyTransfers\n",
      "8       PersonalLoan\n",
      "9  FinancialServices\n",
      "               product                                 consumer_complaint  \\\n",
      "258022  DebtCollection  On first contact from P & B Capitol Group, LLC...   \n",
      "498755  DebtCollection  I am writing regarding this agencies illegal c...   \n",
      "306486  DebtCollection  i got a call from a collection company regardi...   \n",
      "261329     StudentLoan  We have a company sending a demand notice she ...   \n",
      "495265        Mortgage  My name is XXXX XXXX. Our family lives in XXXX...   \n",
      "\n",
      "        category_id  \n",
      "258022            4  \n",
      "498755            4  \n",
      "306486            4  \n",
      "261329            9  \n",
      "495265            7  \n"
     ]
    },
    {
     "data": {
      "image/png": "[encoded data removed]",
      "text/plain": [
       "<Figure size 576x432 with 1 Axes>"
      ]
     },
     "metadata": {
      "needs_background": "light"
     },
     "output_type": "display_data"
    },
    {
     "name": "stdout",
     "output_type": "stream",
     "text": [
      "Length of labels10000\n",
      "Length of product_comments10000\n",
      "(7000, 1)\n",
      "(2000, 1)\n",
      "(1000, 1)\n",
      "(7000, 2000)\n",
      "(2000, 2000)\n",
      "(1000, 2000)\n",
      "21847\n",
      "1\n"
     ]
    }
   ],
   "source": [
    "\n",
    "df2 = df1.sample(10000, random_state=1).copy()\n",
    "\n",
    "# Renaming categories\n",
    "df2.replace({'product':\n",
    "                 {'Credit reporting, credit repair services, or other personal consumer reports':\n",
    "                      'CreditReporting',\n",
    "                  'Credit reporting': 'CreditReporting',\n",
    "                  'Credit card': 'CreditPrepaidCard',\n",
    "                  'Prepaid card': 'CreditPrepaidCard',\n",
    "                  'Credit card or prepaid card': 'CreditPrepaidCard',\n",
    "                  'Payday loan': 'PersonalLoan',\n",
    "                  'Payday loan, title loan, or personal loan' : 'PersonalLoan',\n",
    "                  'Money transfer': 'TransferServices',\n",
    "                  'Virtual currency': 'TransferServices',\n",
    "                  'Money transfer, virtual currency, or money service' : 'TransferServices',\n",
    "                  'Student loan': 'StudentLoan',\n",
    "                  'Checking or savings account': 'SavingsAccount',\n",
    "                  'Vehicle loan or lease': 'VehicleLoan',\n",
    "                  'Debt collection': 'DebtCollection',\n",
    "                  'Bank account or service' : 'BankAccount',\n",
    "                  'Other financial service': 'FinancialServices',\n",
    "                  'Consumer Loan': 'ConsumerLoan',\n",
    "                  'Money transfers': 'MoneyTransfers'}},\n",
    "            inplace=True)\n",
    "\n",
    "\n",
    "print(pd.DataFrame(df2['product'].unique()))\n",
    "\n",
    "# Create a new column 'category_id' with label-encoded categories\n",
    "le = preprocessing.LabelEncoder()\n",
    "df2['category_id'] = le.fit_transform(df2['product'])\n",
    "\n",
    "category_id_df = df2[['product', 'category_id']].drop_duplicates()\n",
    "print(df2.head())\n",
    "\n",
    "fig = plt.figure(figsize=(8, 6))\n",
    "colors = ['grey', 'grey', 'grey', 'grey', 'grey', 'grey', 'grey', 'grey', 'grey',\n",
    "          'grey', 'darkblue', 'darkblue', 'darkblue']\n",
    "df2.groupby('product').consumer_complaint.count().sort_values().plot.barh(\n",
    "    ylim=0, color=colors, title='NUMBER OF COMPLAINTS IN EACH product CATEGORY\\n')\n",
    "plt.xlabel('Number of ocurrences', fontsize=10)\n",
    "plt.show()\n",
    "\n",
    "product_comments = df2['consumer_complaint'].values  # Collection of documents\n",
    "product_type = df2['category_id'].values # Target or the labels we want to predict (i.e., the 13 different complaints of products)\n",
    "\n",
    "print(\"Length of labels\" + str(len(product_type)))\n",
    "print(\"Length of product_comments\" + str(len(product_comments)))\n",
    "\n",
    "complains = []\n",
    "labels = []\n",
    "for i in range(0, len(product_comments)):\n",
    "    complain = product_comments[i]\n",
    "    labels.append(product_type[i])\n",
    "    complain = complain.replace('XX', '')\n",
    "    complain = complain.replace('.', '')\n",
    "    for word in STOPWORDS:\n",
    "        token = ' ' + word + ' '\n",
    "        complain = complain.replace(token, ' ')\n",
    "        complain = complain.replace(' ', ' ')\n",
    "    complains.append(complain)\n",
    "\n",
    "\n",
    "tokenizer = Tokenizer()\n",
    "tokenizer.fit_on_texts(complains)\n",
    "\n",
    "word_index = tokenizer.word_index\n",
    "vocab_size = len(word_index)\n",
    "\n",
    "sequences = tokenizer.texts_to_sequences(product_comments)\n",
    "padded = pad_sequences(sequences, maxlen=max_length)\n",
    "\n",
    "train_size = int(len(product_comments) * 0.7)\n",
    "validation_size = int(len(product_comments) * 0.2)\n",
    "\n",
    "training_sequences = padded[0:train_size]\n",
    "train_labels = labels[0:train_size]\n",
    "\n",
    "validation_sequences = padded[train_size:train_size+validation_size]\n",
    "validation_labels = labels[train_size:train_size+validation_size]\n",
    "\n",
    "test_sequences = padded[train_size + validation_size:]\n",
    "test_labels = labels[train_size + validation_size:]\n",
    "\n",
    "training_label_seq = np.reshape(np.array(train_labels), (len(train_labels), 1))\n",
    "validation_label_seq = np.reshape(np.array(validation_labels), (len(validation_labels), 1))\n",
    "test_label_seq = np.reshape(np.array(test_labels), (len(test_labels), 1))\n",
    "\n",
    "print(training_label_seq.shape)\n",
    "print(validation_label_seq.shape)\n",
    "print(test_label_seq.shape)\n",
    "\n",
    "print(training_sequences.shape)\n",
    "print(validation_sequences.shape)\n",
    "print(test_sequences.shape)\n",
    "\n",
    "print(vocab_size)\n",
    "print(word_index['i'])\n",
    "\n",
    "\n"
   ]
  },
  {
   "cell_type": "markdown",
   "metadata": {},
   "source": [
    "### Getting pre-trained word embeddings"
   ]
  },
  {
   "cell_type": "code",
   "execution_count": 67,
   "metadata": {},
   "outputs": [
    {
     "name": "stdout",
     "output_type": "stream",
     "text": [
      "21848\n"
     ]
    }
   ],
   "source": [
    "\n",
    "embeddings_index = {};\n",
    "with open('glove_6B/glove.6B.100d.txt') as f:\n",
    "    for line in f:\n",
    "        values = line.split();\n",
    "        word = values[0];\n",
    "        coefs = np.asarray(values[1:], dtype='float32')\n",
    "        embeddings_index[word] = coefs;\n",
    "\n",
    "embeddings_matrix = np.zeros((vocab_size + 1, embedding_dim))\n",
    "for word, i in word_index.items():\n",
    "    embedding_vector = embeddings_index.get(word)\n",
    "    if embedding_vector is not None:\n",
    "        embeddings_matrix[i] = embedding_vector\n",
    "\n",
    "print(len(embeddings_matrix))\n"
   ]
  },
  {
   "cell_type": "markdown",
   "metadata": {},
   "source": [
    "### Defining the model"
   ]
  },
  {
   "cell_type": "code",
   "execution_count": 68,
   "metadata": {},
   "outputs": [
    {
     "name": "stdout",
     "output_type": "stream",
     "text": [
      "Model: \"sequential_1\"\n",
      "_________________________________________________________________\n",
      "Layer (type)                 Output Shape              Param #   \n",
      "=================================================================\n",
      "embedding_1 (Embedding)      (None, 2000, 100)         2184800   \n",
      "_________________________________________________________________\n",
      "dropout_1 (Dropout)          (None, 2000, 100)         0         \n",
      "_________________________________________________________________\n",
      "conv1d_1 (Conv1D)            (None, 1996, 64)          32064     \n",
      "_________________________________________________________________\n",
      "max_pooling1d_1 (MaxPooling1 (None, 499, 64)           0         \n",
      "_________________________________________________________________\n",
      "lstm_1 (LSTM)                (None, 64)                33024     \n",
      "_________________________________________________________________\n",
      "dense_1 (Dense)              (None, 13)                845       \n",
      "=================================================================\n",
      "Total params: 2,250,733\n",
      "Trainable params: 65,933\n",
      "Non-trainable params: 2,184,800\n",
      "_________________________________________________________________\n"
     ]
    }
   ],
   "source": [
    "model = tf.keras.Sequential([\n",
    "    tf.keras.layers.Embedding(vocab_size + 1, embedding_dim, input_length=max_length, weights=[embeddings_matrix],\n",
    "                              trainable=False),\n",
    "    tf.keras.layers.Dropout(0.2),\n",
    "    tf.keras.layers.Conv1D(64, 5, activation='relu'),\n",
    "    tf.keras.layers.MaxPooling1D(pool_size=4),\n",
    "    tf.keras.layers.LSTM(64),\n",
    "    tf.keras.layers.Dense(13, activation='softmax')\n",
    "])\n",
    "model.compile(loss='sparse_categorical_crossentropy', optimizer='adam', metrics=['accuracy'])\n",
    "model.summary()"
   ]
  },
  {
   "cell_type": "code",
   "execution_count": 39,
   "metadata": {},
   "outputs": [],
   "source": [
    "# if FLAGS.dpsgd:\n",
    "#         optimizer = DPAdamGaussianOptimizer(\n",
    "#             l2_norm_clip=FLAGS.l2_norm_clip,\n",
    "#             noise_multiplier=FLAGS.noise_multiplier,\n",
    "#             num_microbatches=FLAGS.microbatches,\n",
    "#             learning_rate=FLAGS.learning_rate)\n",
    "# else:\n",
    "#     optimizer = AdamOptimizer()"
   ]
  },
  {
   "cell_type": "code",
   "execution_count": 40,
   "metadata": {},
   "outputs": [],
   "source": [
    "model.compile(loss='sparse_categorical_crossentropy', optimizer= AdamOptimizer(), metrics=['accuracy'])"
   ]
  },
  {
   "cell_type": "code",
   "execution_count": 69,
   "metadata": {},
   "outputs": [
    {
     "name": "stdout",
     "output_type": "stream",
     "text": [
      "Train on 7000 samples, validate on 2000 samples\n",
      "Epoch 1/10\n",
      "7000/7000 - 147s - loss: 1.8404 - acc: 0.3124 - val_loss: 1.7092 - val_acc: 0.4010\n",
      "Epoch 2/10\n",
      "7000/7000 - 138s - loss: 1.4041 - acc: 0.5324 - val_loss: 1.3131 - val_acc: 0.5620\n",
      "Epoch 3/10\n",
      "7000/7000 - 132s - loss: 1.0808 - acc: 0.6407 - val_loss: 1.0123 - val_acc: 0.6755\n",
      "Epoch 4/10\n",
      "7000/7000 - 139s - loss: 0.8949 - acc: 0.7094 - val_loss: 0.9623 - val_acc: 0.7040\n",
      "Epoch 5/10\n",
      "7000/7000 - 133s - loss: 0.7968 - acc: 0.7484 - val_loss: 0.8459 - val_acc: 0.7380\n",
      "Epoch 6/10\n",
      "7000/7000 - 137s - loss: 0.7153 - acc: 0.7749 - val_loss: 0.8094 - val_acc: 0.7560\n",
      "Epoch 7/10\n",
      "7000/7000 - 131s - loss: 0.6541 - acc: 0.7966 - val_loss: 0.7553 - val_acc: 0.7690\n",
      "Epoch 8/10\n",
      "7000/7000 - 130s - loss: 0.6044 - acc: 0.8076 - val_loss: 0.7534 - val_acc: 0.7760\n",
      "Epoch 9/10\n",
      "7000/7000 - 129s - loss: 0.5651 - acc: 0.8259 - val_loss: 0.7245 - val_acc: 0.7855\n",
      "Epoch 10/10\n",
      "7000/7000 - 196s - loss: 0.5305 - acc: 0.8346 - val_loss: 0.6961 - val_acc: 0.7935\n"
     ]
    }
   ],
   "source": [
    "num_epochs = 10\n",
    "\n",
    "history = model.fit(training_sequences, training_label_seq, epochs=num_epochs,\n",
    "                    validation_data=(validation_sequences, validation_label_seq), verbose=2)\n",
    "\n"
   ]
  },
  {
   "cell_type": "markdown",
   "metadata": {},
   "source": [
    "### Plotting Loss and Accuracy "
   ]
  },
  {
   "cell_type": "code",
   "execution_count": 73,
   "metadata": {},
   "outputs": [
    {
     "data": {
      "text/plain": [
       "{'loss': [1.8403603722708566,\n",
       "  1.40413900579725,\n",
       "  1.0808313197408403,\n",
       "  0.8949111199378967,\n",
       "  0.7968171206883021,\n",
       "  0.7152983919552395,\n",
       "  0.6540933719362532,\n",
       "  0.6043529423134667,\n",
       "  0.565142025572913,\n",
       "  0.530483251128878],\n",
       " 'acc': [0.31242856,\n",
       "  0.53242856,\n",
       "  0.6407143,\n",
       "  0.70942855,\n",
       "  0.7484286,\n",
       "  0.77485716,\n",
       "  0.79657143,\n",
       "  0.8075714,\n",
       "  0.82585716,\n",
       "  0.8345714],\n",
       " 'val_loss': [1.709171877861023,\n",
       "  1.3131150798797608,\n",
       "  1.0122896223068236,\n",
       "  0.9623257007598877,\n",
       "  0.8458749542236328,\n",
       "  0.8093898091316223,\n",
       "  0.7552811517715454,\n",
       "  0.7534219884872436,\n",
       "  0.7245237038135529,\n",
       "  0.6960545473098755],\n",
       " 'val_acc': [0.401,\n",
       "  0.562,\n",
       "  0.6755,\n",
       "  0.704,\n",
       "  0.738,\n",
       "  0.756,\n",
       "  0.769,\n",
       "  0.776,\n",
       "  0.7855,\n",
       "  0.7935]}"
      ]
     },
     "execution_count": 73,
     "metadata": {},
     "output_type": "execute_result"
    }
   ],
   "source": [
    "history.history"
   ]
  },
  {
   "cell_type": "code",
   "execution_count": 76,
   "metadata": {},
   "outputs": [
    {
     "data": {
      "image/png": "[encoded data removed]",
      "text/plain": [
       "<Figure size 432x288 with 1 Axes>"
      ]
     },
     "metadata": {
      "needs_background": "light"
     },
     "output_type": "display_data"
    }
   ],
   "source": [
    "plt.plot(history.history[\"val_acc\"])\n",
    "plt.plot(history.history[\"acc\"])\n",
    "\n",
    "\n",
    "# plt.plot(history.history['val_' + string])\n",
    "plt.xlabel(\"Epochs\")\n",
    "plt.ylabel(\"val_acc\")\n",
    "plt.legend([\"Validation Set Accuracy\", \"Training set Accuracy\"])\n",
    "plt.title(\"Acuracy\")\n",
    "plt.show()\n",
    "\n",
    "# history.history\n"
   ]
  },
  {
   "cell_type": "code",
   "execution_count": 77,
   "metadata": {},
   "outputs": [
    {
     "data": {
      "text/plain": [
       "{'loss': [1.8403603722708566,\n",
       "  1.40413900579725,\n",
       "  1.0808313197408403,\n",
       "  0.8949111199378967,\n",
       "  0.7968171206883021,\n",
       "  0.7152983919552395,\n",
       "  0.6540933719362532,\n",
       "  0.6043529423134667,\n",
       "  0.565142025572913,\n",
       "  0.530483251128878],\n",
       " 'acc': [0.31242856,\n",
       "  0.53242856,\n",
       "  0.6407143,\n",
       "  0.70942855,\n",
       "  0.7484286,\n",
       "  0.77485716,\n",
       "  0.79657143,\n",
       "  0.8075714,\n",
       "  0.82585716,\n",
       "  0.8345714],\n",
       " 'val_loss': [1.709171877861023,\n",
       "  1.3131150798797608,\n",
       "  1.0122896223068236,\n",
       "  0.9623257007598877,\n",
       "  0.8458749542236328,\n",
       "  0.8093898091316223,\n",
       "  0.7552811517715454,\n",
       "  0.7534219884872436,\n",
       "  0.7245237038135529,\n",
       "  0.6960545473098755],\n",
       " 'val_acc': [0.401,\n",
       "  0.562,\n",
       "  0.6755,\n",
       "  0.704,\n",
       "  0.738,\n",
       "  0.756,\n",
       "  0.769,\n",
       "  0.776,\n",
       "  0.7855,\n",
       "  0.7935]}"
      ]
     },
     "execution_count": 77,
     "metadata": {},
     "output_type": "execute_result"
    }
   ],
   "source": [
    "history.history"
   ]
  },
  {
   "cell_type": "code",
   "execution_count": 78,
   "metadata": {},
   "outputs": [
    {
     "data": {
      "image/png": "[encoded data removed]",
      "text/plain": [
       "<Figure size 432x288 with 1 Axes>"
      ]
     },
     "metadata": {
      "needs_background": "light"
     },
     "output_type": "display_data"
    }
   ],
   "source": [
    "plt.plot(history.history[\"loss\"])\n",
    "plt.plot(history.history[\"val_loss\"])\n",
    "# plt.plot(history.history['val_' + string])\n",
    "plt.xlabel(\"Epochs\")\n",
    "plt.ylabel(\"loss\")\n",
    "plt.legend([\"Training Set Loss\", 'Validation Set loss'])\n",
    "plt.title(\"Sparse Categorical Cross-Entropy Loss\")\n",
    "plt.show()\n"
   ]
  },
  {
   "cell_type": "markdown",
   "metadata": {},
   "source": [
    "### Summary"
   ]
  },
  {
   "cell_type": "code",
   "execution_count": 79,
   "metadata": {},
   "outputs": [
    {
     "name": "stdout",
     "output_type": "stream",
     "text": [
      "Accuracy: 77.80%\n",
      "(1000, 13)\n",
      "(1000,)\n",
      "(1000, 1)\n",
      "(1000, 1)\n",
      "[[ 63   0  18   2   3   0   6   0   0]\n",
      " [  0  28   9   4   8   0   7   0   1]\n",
      " [ 13   0  94   7   9   0   4   0   1]\n",
      " [  0   4   7 127  27   0   3   0   0]\n",
      " [  0   6   5  12 226   0  10   0   5]\n",
      " [ 10   0   2   0   0   0   1   0   0]\n",
      " [  4   1   2   4   5   0 224   0   1]\n",
      " [  0   0   0   0   4   0   4   0   3]\n",
      " [  1   0   0   0   5   0   4   0  16]]\n",
      "Multi-label Classification LSTM CNN Precision = [0.69230769 0.71794872 0.68613139 0.81410256 0.78745645 0.\n",
      " 0.85171103 0.         0.59259259]\n",
      "Multi-label Classification LSTM CNN Recall= [0.68478261 0.49122807 0.734375   0.75595238 0.85606061 0.\n",
      " 0.92946058 0.         0.61538462]\n",
      "Multi-label Classification LSTM CNN F1 Score = [0.68852459 0.58333333 0.70943396 0.78395062 0.82032668 0.\n",
      " 0.88888889 0.         0.60377358]\n",
      "Multi-label Classification Accuracy: 0.778\n"
     ]
    }
   ],
   "source": [
    "scores = model.evaluate(test_sequences, test_label_seq, verbose=0)\n",
    "print(\"Accuracy: %.2f%%\" % (scores[1] * 100))\n",
    "\n",
    "output_test = model.predict(test_sequences)\n",
    "print(np.shape(output_test))\n",
    "final_pred = np.argmax(output_test, axis=1)\n",
    "print(np.shape(final_pred))\n",
    "print(np.shape(test_label_seq))\n",
    "final_pred_list = np.reshape(final_pred, (len(test_sequences), 1))\n",
    "print(np.shape(final_pred_list))\n",
    "\n",
    "results = confusion_matrix(test_label_seq, final_pred_list)\n",
    "print(results)\n",
    "\n",
    "precisions, recall, f1_score, true_sum = metrics.precision_recall_fscore_support(test_label_seq, final_pred_list)\n",
    "print(\"Multi-label Classification LSTM CNN Precision =\", precisions)\n",
    "print(\"Multi-label Classification LSTM CNN Recall=\", recall)\n",
    "print(\"Multi-label Classification LSTM CNN F1 Score =\", f1_score)\n",
    "print('Multi-label Classification Accuracy: {}'.format((accuracy_score(test_label_seq, final_pred_list))))\n",
    "\n",
    "classes = np.array(range(0, 13))"
   ]
  },
  {
   "cell_type": "code",
   "execution_count": null,
   "metadata": {},
   "outputs": [],
   "source": []
  }
 ],
 "metadata": {
  "kernelspec": {
   "display_name": "py36",
   "language": "python",
   "name": "py36"
  },
  "language_info": {
   "codemirror_mode": {
    "name": "ipython",
    "version": 3
   },
   "file_extension": ".py",
   "mimetype": "text/x-python",
   "name": "python",
   "nbconvert_exporter": "python",
   "pygments_lexer": "ipython3",
   "version": "3.7.3"
  }
 },
 "nbformat": 4,
 "nbformat_minor": 4
}
